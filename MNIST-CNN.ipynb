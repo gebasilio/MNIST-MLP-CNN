{
 "cells": [
  {
   "cell_type": "markdown",
   "metadata": {},
   "source": [
    "# Redes Convolucionales"
   ]
  },
  {
   "cell_type": "markdown",
   "metadata": {},
   "source": [
    "- La meta es reducir el ancho/alto y aumentar la profundidad\n",
    "- Transformar información espacial en features (feature maps)"
   ]
  },
  {
   "cell_type": "code",
   "execution_count": 27,
   "metadata": {},
   "outputs": [
    {
     "name": "stderr",
     "output_type": "stream",
     "text": [
      "Using TensorFlow backend.\n"
     ]
    }
   ],
   "source": [
    "import keras\n",
    "import numpy as np\n",
    "from matplotlib import pyplot as plt\n",
    "from fnn_helper import PlotLosses\n",
    "from MNIST_helper import plot_numbers, visualize_input\n",
    "import draw_nn"
   ]
  },
  {
   "cell_type": "markdown",
   "metadata": {},
   "source": [
    "Intro CNNs: https://youtu.be/HrYNL_1SV2Y\n",
    "Convolutional Layers 1: https://youtu.be/h5R_JvdUrUI\n",
    "Convolutional Layers 2: https://youtu.be/RnM1D-XI--8\n",
    "Pooling layers: https://youtu.be/OkkIZNs7Cyc\n",
    "CNNs for image classification: https://youtu.be/l9vg_1YUlzg"
   ]
  },
  {
   "cell_type": "code",
   "execution_count": 105,
   "metadata": {},
   "outputs": [],
   "source": [
    "from keras.datasets import mnist\n",
    "validation = 0.20\n",
    "\n",
    "(x, y), (x_test, y_test) = mnist.load_data()\n",
    "\n",
    "N_validation_split = int(x.shape[0]*(1-validation))\n",
    "x_train = x[:N_validation_split]\n",
    "y_train = y[:N_validation_split]\n",
    "\n",
    "x_val = x[N_validation_split:]\n",
    "y_val = y[N_validation_split:]\n",
    "\n",
    "x_train = x_train.reshape(x_train.shape + (1,))\n",
    "x_val = x_val.reshape(x_val.shape + (1,))\n",
    "x_test = x_test.reshape(x_test.shape + (1,))"
   ]
  },
  {
   "cell_type": "code",
   "execution_count": 108,
   "metadata": {},
   "outputs": [
    {
     "data": {
      "text/plain": [
       "(48000, 28, 28, 1)"
      ]
     },
     "execution_count": 108,
     "metadata": {},
     "output_type": "execute_result"
    }
   ],
   "source": [
    "x_train.shape"
   ]
  },
  {
   "cell_type": "code",
   "execution_count": 72,
   "metadata": {},
   "outputs": [
    {
     "name": "stdout",
     "output_type": "stream",
     "text": [
      "Training set data: (48000, 28, 28)\n",
      "Training labels: (48000,)\n",
      "\n",
      "CV set data: (12000, 28, 28)\n",
      "CV labels: (12000,)\n",
      "\n",
      "Testing set data: (10000, 28, 28)\n",
      "Testing labels: (10000,)\n"
     ]
    }
   ],
   "source": [
    "print('Training set data:', x_train.shape)\n",
    "print('Training labels:', y_train.shape)\n",
    "print()\n",
    "print('CV set data:', x_val.shape)\n",
    "print('CV labels:', y_val.shape)\n",
    "print()\n",
    "print('Testing set data:',x_test.shape)\n",
    "print('Testing labels:', y_test.shape)"
   ]
  },
  {
   "cell_type": "code",
   "execution_count": 73,
   "metadata": {},
   "outputs": [
    {
     "data": {
      "text/plain": [
       "(48000, 10)"
      ]
     },
     "execution_count": 73,
     "metadata": {},
     "output_type": "execute_result"
    }
   ],
   "source": [
    "y_train_categorical = keras.utils.to_categorical(y_train)\n",
    "y_val_categorical = keras.utils.to_categorical(y_val)\n",
    "y_test_categorical = keras.utils.to_categorical(y_test)\n",
    "y_train_categorical.shape"
   ]
  },
  {
   "cell_type": "code",
   "execution_count": 124,
   "metadata": {
    "collapsed": true
   },
   "outputs": [],
   "source": [
    "from keras.models import Sequential\n",
    "from keras.layers.core import Dense, Dropout, Activation, Flatten\n",
    "from keras.layers import Convolution2D, MaxPooling2D, GlobalAveragePooling2D\n",
    "from keras.layers.normalization import BatchNormalization\n",
    "from keras import optimizers\n",
    "from keras.utils import np_utils"
   ]
  },
  {
   "cell_type": "code",
   "execution_count": 36,
   "metadata": {},
   "outputs": [
    {
     "data": {
      "text/plain": [
       "(28, 28)"
      ]
     },
     "execution_count": 36,
     "metadata": {},
     "output_type": "execute_result"
    }
   ],
   "source": [
    "x_test.shape[1:]"
   ]
  },
  {
   "cell_type": "code",
   "execution_count": 63,
   "metadata": {
    "collapsed": true
   },
   "outputs": [],
   "source": [
    "# kernel_size tipicamente entre 2 y 5 (2x2, 5x5)\n",
    "# input_shape=(alto,ancho,cantidad de canales) blanco y negro el utlimo es 1"
   ]
  },
  {
   "cell_type": "code",
   "execution_count": 175,
   "metadata": {},
   "outputs": [
    {
     "name": "stdout",
     "output_type": "stream",
     "text": [
      "_________________________________________________________________\n",
      "Layer (type)                 Output Shape              Param #   \n",
      "=================================================================\n",
      "conv2d_135 (Conv2D)          (None, 28, 28, 6)         222       \n",
      "_________________________________________________________________\n",
      "max_pooling2d_107 (MaxPoolin (None, 14, 14, 6)         0         \n",
      "_________________________________________________________________\n",
      "conv2d_136 (Conv2D)          (None, 14, 14, 12)        1812      \n",
      "_________________________________________________________________\n",
      "max_pooling2d_108 (MaxPoolin (None, 7, 7, 12)          0         \n",
      "_________________________________________________________________\n",
      "conv2d_137 (Conv2D)          (None, 7, 7, 24)          4632      \n",
      "_________________________________________________________________\n",
      "max_pooling2d_109 (MaxPoolin (None, 3, 3, 24)          0         \n",
      "_________________________________________________________________\n",
      "flatten_24 (Flatten)         (None, 216)               0         \n",
      "_________________________________________________________________\n",
      "dense_53 (Dense)             (None, 200)               43400     \n",
      "_________________________________________________________________\n",
      "dense_54 (Dense)             (None, 10)                2010      \n",
      "=================================================================\n",
      "Total params: 52,076\n",
      "Trainable params: 52,076\n",
      "Non-trainable params: 0\n",
      "_________________________________________________________________\n"
     ]
    }
   ],
   "source": [
    "def get_model():\n",
    "    model = Sequential()\n",
    "    model.add(Convolution2D(filters=6, strides=1, kernel_size=6, padding='same',activation='relu',input_shape=(28,28,1)))\n",
    "    model.add(MaxPooling2D(pool_size=2))\n",
    "    model.add(Convolution2D(filters=12, strides=1, kernel_size=5, padding='same',activation='relu'))\n",
    "    model.add(MaxPooling2D(pool_size=2))\n",
    "    model.add(Convolution2D(filters=24, strides=1, kernel_size=4, padding='same',activation='relu'))\n",
    "    model.add(MaxPooling2D(pool_size=2))\n",
    "    #model.add(GlobalAveragePooling2D())\n",
    "    model.add(Flatten())\n",
    "    model.add(Dense(200, activation='relu'))\n",
    "    model.add(Dense(10, activation='softmax'))\n",
    "    return model\n",
    "model = get_model()\n",
    "model.summary()"
   ]
  },
  {
   "cell_type": "code",
   "execution_count": 176,
   "metadata": {},
   "outputs": [
    {
     "data": {
      "text/plain": [
       "1596"
      ]
     },
     "execution_count": 176,
     "metadata": {},
     "output_type": "execute_result"
    }
   ],
   "source": [
    "# Cantidad de parametros\n",
    "features_maps=14\n",
    "filters=28\n",
    "kernel_size = 2\n",
    "features_maps*filters*kernel_size*kernel_size+filters"
   ]
  },
  {
   "cell_type": "code",
   "execution_count": 177,
   "metadata": {
    "collapsed": true
   },
   "outputs": [],
   "source": [
    "model = get_model()\n",
    "adam = optimizers.Adam()\n",
    "model.compile(loss = 'categorical_crossentropy', optimizer=adam, metrics=['accuracy'])"
   ]
  },
  {
   "cell_type": "code",
   "execution_count": null,
   "metadata": {},
   "outputs": [
    {
     "data": {
      "image/png": "[encoded data removed]",
      "text/plain": [
       "<matplotlib.figure.Figure at 0x13f16ab00>"
      ]
     },
     "metadata": {},
     "output_type": "display_data"
    },
    {
     "name": "stdout",
     "output_type": "stream",
     "text": [
      "48000/48000 [==============================] - 42s - loss: 0.0127 - acc: 0.9975 - val_loss: 0.1270 - val_acc: 0.9861\n",
      "Epoch 64/200\n",
      " 5300/48000 [==>...........................] - ETA: 39s - loss: 0.0137 - acc: 0.9972"
     ]
    }
   ],
   "source": [
    "plot_losses = PlotLosses(plot_interval=1, evaluate_interval=None, x_val=x_val, y_val_categorical=y_val_categorical)\n",
    "\n",
    "model.fit(x_train, \n",
    "          y_train_categorical,\n",
    "          epochs=200, batch_size=100, \n",
    "          #verbose=1, \n",
    "          validation_data=(x_val, y_val_categorical), \n",
    "          callbacks=[plot_losses],\n",
    "         )"
   ]
  },
  {
   "cell_type": "code",
   "execution_count": null,
   "metadata": {
    "collapsed": true
   },
   "outputs": [],
   "source": []
  }
 ],
 "metadata": {
  "kernelspec": {
   "display_name": "Python 3",
   "language": "python",
   "name": "python3"
  },
  "language_info": {
   "codemirror_mode": {
    "name": "ipython",
    "version": 3
   },
   "file_extension": ".py",
   "mimetype": "text/x-python",
   "name": "python",
   "nbconvert_exporter": "python",
   "pygments_lexer": "ipython3",
   "version": "3.6.2"
  }
 },
 "nbformat": 4,
 "nbformat_minor": 2
}
