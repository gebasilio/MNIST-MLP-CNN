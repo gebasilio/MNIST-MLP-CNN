{
 "cells": [
  {
   "cell_type": "markdown",
   "metadata": {},
   "source": [
    "# RN de 1 capa en MNIST con TensorFlow <a class=\"tocSkip\">"
   ]
  },
  {
   "cell_type": "code",
   "execution_count": 5,
   "metadata": {},
   "outputs": [
    {
     "name": "stdout",
     "output_type": "stream",
     "text": [
      "Tensorflow version 1.0.0\n"
     ]
    }
   ],
   "source": [
    "import tensorflow as tf\n",
    "import numpy as np\n",
    "from tensorflow.examples.tutorials.mnist import input_data as mnist_data\n",
    "print(\"Tensorflow version \" + tf.__version__)\n",
    "tf.set_random_seed(0)"
   ]
  },
  {
   "cell_type": "markdown",
   "metadata": {},
   "source": [
    "## [Tensorflow](https://www.tensorflow.org/)\n",
    "- Librería Open Source\n",
    "- Para calculo numérico basada en la utilización de grafos de flujo de grafos (data flow graphs)\n",
    "- Nodos representan operaciones matemáticas\n",
    "- Extremos de los nodos representan arreglos multidimensionales (Tensores) que fluyen entre nodos\n",
    "- Flexibilidad para resolver simbólicamente antes de realizar el calculo numérico\n",
    "- CPU o GPU\n",
    "- Desarrollado por ingenieros e investigadores del grupo 'Google Brain Team'\n",
    "\n",
    "Recomendación de excelentes tutoriales [aqui](https://www.tensorflow.org/tutorials/)"
   ]
  },
  {
   "cell_type": "markdown",
   "metadata": {},
   "source": [
    "## Tensorflow and deep learning, without a PhD\n",
    "- by Martin Görner\n",
    "- [Slides](https://codelabs.developers.google.com/codelabs/cloud-tensorflow-mnist/#0)\n",
    "- [Video](https://github.com/lab-ml-itba/tensorflow-mnist-tutorial) dura 2.30 horas pero Muuuy recomendado!!!\n",
    "- Antes de empezar correr ejemplo mnist_1.0_softmax.py.\n"
   ]
  },
  {
   "cell_type": "markdown",
   "metadata": {},
   "source": [
    "## Bajo MNIST dataset"
   ]
  },
  {
   "cell_type": "code",
   "execution_count": 6,
   "metadata": {},
   "outputs": [
    {
     "name": "stdout",
     "output_type": "stream",
     "text": [
      "Extracting data/train-images-idx3-ubyte.gz\n",
      "Extracting data/train-labels-idx1-ubyte.gz\n",
      "Extracting data/t10k-images-idx3-ubyte.gz\n",
      "Extracting data/t10k-labels-idx1-ubyte.gz\n"
     ]
    }
   ],
   "source": [
    "# Download images and labels into mnist.test (10K images+labels) and mnist.train (60K images+labels)\n",
    "mnist = mnist_data.read_data_sets(\"data\", one_hot=True, reshape=False, validation_size=0)"
   ]
  },
  {
   "cell_type": "markdown",
   "metadata": {},
   "source": [
    "## Red Neuronal de 1 capa"
   ]
  },
  {
   "cell_type": "markdown",
   "metadata": {},
   "source": [
    "### Defino variables y placeholders\n",
    "- **Variables**: mis incognitas, lo que quiero que el sistema estime. Pesos y biases\n",
    "- **Placeholders**: Features y labels"
   ]
  },
  {
   "cell_type": "code",
   "execution_count": 7,
   "metadata": {
    "collapsed": true
   },
   "outputs": [],
   "source": [
    "# input X: 28x28 grayscale images, the first dimension (None) will index the images in the mini-batch\n",
    "X = tf.placeholder(tf.float32, [None, 28, 28, 1])\n",
    "# correct answers will go here\n",
    "Y_ = tf.placeholder(tf.float32, [None, 10])\n",
    "# weights W[784, 10]   784=28*28\n",
    "W = tf.Variable(tf.zeros([784, 10]))\n",
    "# biases b[10]\n",
    "b = tf.Variable(tf.zeros([10]))\n",
    "\n",
    "# flatten the images into a single line of pixels\n",
    "# -1 in the shape definition means \"the only possible dimension that will preserve the number of elements\"\n",
    "XX = tf.reshape(X, [-1, 784])"
   ]
  },
  {
   "cell_type": "code",
   "execution_count": 8,
   "metadata": {},
   "outputs": [
    {
     "name": "stdout",
     "output_type": "stream",
     "text": [
      "60000\n",
      "10000\n"
     ]
    }
   ],
   "source": [
    "print(mnist.train.num_examples)\n",
    "print(mnist.test.num_examples)\n",
    "batch_size = 100\n",
    "batch_X, batch_Y = mnist.train.next_batch(batch_size)"
   ]
  },
  {
   "cell_type": "code",
   "execution_count": 9,
   "metadata": {},
   "outputs": [
    {
     "name": "stdout",
     "output_type": "stream",
     "text": [
      "(100, 28, 28, 1)\n",
      "(100, 10)\n"
     ]
    }
   ],
   "source": [
    "print(batch_X.shape)\n",
    "print(batch_Y.shape)"
   ]
  },
  {
   "cell_type": "markdown",
   "metadata": {},
   "source": [
    "### El modelo\n",
    "\n",
    "$l_{1,1} = x_{1,1}w_{1,1} + x_{1,2}w_{2,1} + \\dots + x_{1,784}w_{784,1}$\n",
    "\n",
    "$ l_{1,2} = x_{1,1}w_{1,2} + x_{1,2}w_{2,2} + \\dots + x_{1,784}w_{784,2}$\n",
    "\n",
    "$\\vdots$\n",
    "\n",
    "$ l_{1,10} = x_{1,1}w_{1,10} + x_{1,2}w_{2,10} + \\dots + x_{1,784}w_{784,10}$"
   ]
  },
  {
   "cell_type": "markdown",
   "metadata": {},
   "source": [
    "#### Ejemplo\n",
    "\n",
    "$ l_{1} = \\begin{bmatrix}0.1 & 0.5 & 0.3 & 0.18 & 0.23 & 1 & 0.3 &0.5 &0.4 & 0.15\\end{bmatrix}$"
   ]
  },
  {
   "cell_type": "code",
   "execution_count": 10,
   "metadata": {
    "collapsed": true
   },
   "outputs": [],
   "source": [
    "L1 = np.array([0.1, 0.5, 0.3, 0.18, 0.23, 1, 0.3, 0.5, 0.4, 0.15])"
   ]
  },
  {
   "cell_type": "code",
   "execution_count": 11,
   "metadata": {},
   "outputs": [
    {
     "name": "stdout",
     "output_type": "stream",
     "text": [
      "[ 0.07402306  0.11042943  0.09041197  0.08018823  0.08429956  0.18206735\n",
      "  0.09041197  0.11042943  0.09992068  0.07781831]\n",
      "1.0\n"
     ]
    }
   ],
   "source": [
    "denominador = np.exp(L1).sum()\n",
    "softmax_output = np.array([np.exp(l)/denominador for l in L1])\n",
    "print(softmax_output)    \n",
    "print(softmax_output.sum())"
   ]
  },
  {
   "cell_type": "markdown",
   "metadata": {},
   "source": [
    "### Escritura matricial - Vectorización"
   ]
  },
  {
   "cell_type": "markdown",
   "metadata": {},
   "source": [
    "$L =\n",
    "\\begin{bmatrix}\n",
    "    x_{1,1}       & x_{1,2} & x_{1,3} & \\dots & x_{1,784} \\\\\n",
    "    x_{2,1}       & x_{2,2} & x_{2,3} & \\dots & x_{2,748} \\\\\n",
    "  \\vdots \\\\\n",
    "    x_{100,1}       & x_{100,2} & x_{100,3} & \\dots & x_{100,784}\n",
    "\\end{bmatrix}\n",
    "\\begin{bmatrix}\n",
    "    w_{1,1}       & w_{1,2} & x_{1,3} & \\dots & w_{1,10} \\\\\n",
    "    w_{2,1}       & w_{2,2} & x_{2,3} & \\dots & w_{2,10} \\\\\n",
    "  \\vdots \\\\\n",
    "    w_{784,1}       & w_{748,2} & w_{748,3} & \\dots & w_{748,10}\n",
    "\\end{bmatrix} + \n",
    "\\begin{bmatrix}\n",
    "b_1 & b_2 &\\dots& b_{10}\\\\\n",
    "b_1 & b_2 &\\dots& b_{10}\\\\\n",
    "\\vdots \\\\\n",
    "b_1 & b_2 &\\dots& b_{10}\\\\\n",
    "\\end{bmatrix}\n",
    "$\n",
    "\n",
    "$L_{100x10} = X_{100x784}W_{784x10} + b_{100x10}$\n",
    "\n",
    "$Y = softmax(L)$"
   ]
  },
  {
   "cell_type": "markdown",
   "metadata": {},
   "source": [
    "### Defino el modelo"
   ]
  },
  {
   "cell_type": "code",
   "execution_count": 12,
   "metadata": {
    "collapsed": true
   },
   "outputs": [],
   "source": [
    "# The model\n",
    "Y = tf.nn.softmax(tf.matmul(XX, W) + b)"
   ]
  },
  {
   "cell_type": "markdown",
   "metadata": {},
   "source": [
    "### Defino la función de costo (loss)"
   ]
  },
  {
   "cell_type": "code",
   "execution_count": 16,
   "metadata": {
    "collapsed": true
   },
   "outputs": [],
   "source": [
    "# loss function: cross-entropy = - sum( Y_i * log(Yi) )\n",
    "#                           Y: the computed output vector\n",
    "#                           Y_: the desired output vector\n",
    "\n",
    "# cross-entropy\n",
    "# log takes the log of each element, * multiplies the tensors element by element\n",
    "# reduce_mean will add all the components in the tensor\n",
    "# so here we end up with the total cross-entropy for all images in the batch\n",
    "cross_entropy = -tf.reduce_mean(Y_ * tf.log(Y)) * 1000.0  # normalized for batches of 100 images,\n",
    "                                                          # *10 because  \"mean\" included an unwanted division by 10\n"
   ]
  },
  {
   "cell_type": "markdown",
   "metadata": {},
   "source": [
    "### Defino exactitud"
   ]
  },
  {
   "cell_type": "code",
   "execution_count": 17,
   "metadata": {
    "collapsed": true
   },
   "outputs": [],
   "source": [
    "# accuracy of the trained model, between 0 (worst) and 1 (best)\n",
    "correct_prediction = tf.equal(tf.argmax(Y, 1), tf.argmax(Y_, 1))\n",
    "accuracy = tf.reduce_mean(tf.cast(correct_prediction, tf.float32))"
   ]
  },
  {
   "cell_type": "markdown",
   "metadata": {},
   "source": [
    "### Paso de entrenamiento"
   ]
  },
  {
   "cell_type": "code",
   "execution_count": 18,
   "metadata": {
    "collapsed": true
   },
   "outputs": [],
   "source": [
    "# training, learning rate = 0.005\n",
    "train_step = tf.train.GradientDescentOptimizer(0.005).minimize(cross_entropy)"
   ]
  },
  {
   "cell_type": "markdown",
   "metadata": {},
   "source": [
    "### Inicialización de variables"
   ]
  },
  {
   "cell_type": "code",
   "execution_count": 19,
   "metadata": {
    "collapsed": true
   },
   "outputs": [],
   "source": [
    "# init\n",
    "init = tf.global_variables_initializer()\n",
    "sess = tf.Session()\n",
    "sess.run(init)"
   ]
  },
  {
   "cell_type": "code",
   "execution_count": 20,
   "metadata": {
    "collapsed": true
   },
   "outputs": [],
   "source": [
    "# You can call this function in a loop to train the model, 100 images at a time\n",
    "def training_step(i, update_test_data, update_train_data):\n",
    "    # training on batches of 100 images with 100 labels\n",
    "    batch_X, batch_Y = mnist.train.next_batch(100)\n",
    "    a_t=None \n",
    "    c_t=None\n",
    "    a_cv=None\n",
    "    c_cv=None\n",
    "    # compute training values for visualisation\n",
    "    if update_train_data:\n",
    "        a_t, c_t = sess.run([accuracy, cross_entropy], feed_dict={X: batch_X, Y_: batch_Y})\n",
    "        #print(str(i) + \": accuracy:\" + str(a_t) + \" loss: \" + str(c_t))\n",
    "\n",
    "    # compute test values for visualisation\n",
    "    if update_test_data:\n",
    "        a_cv, c_cv = sess.run([accuracy, cross_entropy], feed_dict={X: mnist.test.images, Y_: mnist.test.labels})\n",
    "        #print(str(i) + \": ********* epoch \" + str(i*100//mnist.train.images.shape[0]+1) + \" ********* test accuracy:\" + str(a_cv) + \" test loss: \" + str(c_cv))\n",
    "\n",
    "    # the backpropagation training step\n",
    "    sess.run(train_step, feed_dict={X: batch_X, Y_: batch_Y})\n",
    "    \n",
    "    return a_t, c_t, a_cv, c_cv"
   ]
  },
  {
   "cell_type": "markdown",
   "metadata": {},
   "source": [
    "### Entrenamiento"
   ]
  },
  {
   "cell_type": "code",
   "execution_count": 21,
   "metadata": {
    "collapsed": true
   },
   "outputs": [],
   "source": [
    "accuracy_list_train = []\n",
    "accuracy_list_test = []\n",
    "for i in range(1000):\n",
    "    if i%2==0:\n",
    "        update_test_data = True\n",
    "        update_train_data = True\n",
    "    else:\n",
    "        update_test_data = False\n",
    "        update_train_data = False\n",
    "    a_t, c_t, a_cv, c_cv = training_step(i, update_test_data, update_train_data)\n",
    "    if a_t is not None:\n",
    "        accuracy_list_train.append(a_t)\n",
    "    if a_cv is not None:\n",
    "        accuracy_list_test.append(a_cv)"
   ]
  },
  {
   "cell_type": "markdown",
   "metadata": {},
   "source": [
    "### Grafica"
   ]
  },
  {
   "cell_type": "code",
   "execution_count": 22,
   "metadata": {},
   "outputs": [
    {
     "data": {
      "image/png": "[encoded data removed]",
      "text/plain": [
       "<matplotlib.figure.Figure at 0x11dca10b8>"
      ]
     },
     "metadata": {},
     "output_type": "display_data"
    }
   ],
   "source": [
    "from matplotlib import pyplot as plt\n",
    "plt.plot(accuracy_list_train)\n",
    "plt.plot(accuracy_list_test)\n",
    "plt.show()"
   ]
  },
  {
   "cell_type": "markdown",
   "metadata": {},
   "source": [
    "## Como definiría un modelo de 5 capas \n",
    "El siguiente codigo no se aplica ni se corre, es solo a manera de ejemplo"
   ]
  },
  {
   "cell_type": "code",
   "execution_count": 18,
   "metadata": {
    "collapsed": true
   },
   "outputs": [],
   "source": [
    "# five layers and their number of neurons (tha last layer has 10 softmax neurons)\n",
    "L = 200\n",
    "M = 100\n",
    "N = 60\n",
    "O = 30\n",
    "# Weights initialised with small random values between -0.2 and +0.2\n",
    "# When using RELUs, make sure biases are initialised with small *positive* values for example 0.1 = tf.ones([K])/10\n",
    "W1 = tf.Variable(tf.truncated_normal([784, L], stddev=0.1))  # 784 = 28 * 28\n",
    "B1 = tf.Variable(tf.zeros([L]))\n",
    "W2 = tf.Variable(tf.truncated_normal([L, M], stddev=0.1))\n",
    "B2 = tf.Variable(tf.zeros([M]))\n",
    "W3 = tf.Variable(tf.truncated_normal([M, N], stddev=0.1))\n",
    "B3 = tf.Variable(tf.zeros([N]))\n",
    "W4 = tf.Variable(tf.truncated_normal([N, O], stddev=0.1))\n",
    "B4 = tf.Variable(tf.zeros([O]))\n",
    "W5 = tf.Variable(tf.truncated_normal([O, 10], stddev=0.1))\n",
    "B5 = tf.Variable(tf.zeros([10]))\n",
    "\n",
    "# The model\n",
    "XX = tf.reshape(X, [-1, 784])\n",
    "Y1 = tf.nn.sigmoid(tf.matmul(XX, W1) + B1)\n",
    "Y2 = tf.nn.sigmoid(tf.matmul(Y1, W2) + B2)\n",
    "Y3 = tf.nn.sigmoid(tf.matmul(Y2, W3) + B3)\n",
    "Y4 = tf.nn.sigmoid(tf.matmul(Y3, W4) + B4)\n",
    "Ylogits = tf.matmul(Y4, W5) + B5\n",
    "Y = tf.nn.softmax(Ylogits)"
   ]
  },
  {
   "cell_type": "code",
   "execution_count": null,
   "metadata": {
    "collapsed": true
   },
   "outputs": [],
   "source": []
  }
 ],
 "metadata": {
  "kernelspec": {
   "display_name": "Python 3",
   "language": "python",
   "name": "python3"
  },
  "language_info": {
   "codemirror_mode": {
    "name": "ipython",
    "version": 3
   },
   "file_extension": ".py",
   "mimetype": "text/x-python",
   "name": "python",
   "nbconvert_exporter": "python",
   "pygments_lexer": "ipython3",
   "version": "3.6.2"
  },
  "toc": {
   "nav_menu": {},
   "number_sections": true,
   "sideBar": true,
   "skip_h1_title": true,
   "toc_cell": false,
   "toc_position": {},
   "toc_section_display": "block",
   "toc_window_display": false
  }
 },
 "nbformat": 4,
 "nbformat_minor": 2
}
